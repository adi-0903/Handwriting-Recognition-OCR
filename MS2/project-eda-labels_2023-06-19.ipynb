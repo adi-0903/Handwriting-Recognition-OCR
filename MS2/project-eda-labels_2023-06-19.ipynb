{
 "cells": [
  {
   "cell_type": "code",
   "execution_count": 1,
   "id": "d5cdb11a",
   "metadata": {},
   "outputs": [],
   "source": [
    "import seaborn as sns\n",
    "import matplotlib.pyplot as plt\n",
    "import pandas as pd\n",
    "from collections import defaultdict\n",
    "from collections import Counter"
   ]
  },
  {
   "cell_type": "markdown",
   "id": "4b68fcac",
   "metadata": {},
   "source": [
    "# Exploratory Data Analysis (EDA) notebook for the IAM Handwriting Database."
   ]
  },
  {
   "cell_type": "markdown",
   "id": "2a7a2118",
   "metadata": {},
   "source": [
    "The IAM Handwriting Database is a publicly accessible and freely available dataset that is widely used for research purposes. It contains handwritten forms, text lines, sentences, and words, providing a rich resource for studying handwriting recognition, optical character recognition (OCR), and related fields.\n",
    "\n",
    "Dataset Description:\n",
    "The IAM Handwriting Database is hierarchically structured into different categories. The dataset includes the following components:\n",
    "\n",
    "Forms: This category contains form images, where each image represents a complete handwritten form. The forms are named following the LOB Corpus naming scheme, such as \"a01-122.png\".\n",
    "\n",
    "Text Lines: The text lines category contains individual lines of text extracted from the form images. Each line is saved as a separate image, following a similar naming convention as the forms.\n",
    "\n",
    "Sentences: This category contains sentences, with one sentence corresponding to each text line image. The sentences provide additional context and can be used for higher-level analysis.\n",
    "\n",
    "Words: This category includes individual words extracted from the text lines. Similar to text lines, each word is saved as an image.\n",
    "\n",
    "ASCII and XML: These categories contain meta-information about the forms, lines, sentences, and words in ASCII and XML formats, respectively. They provide summarized information about the dataset, including labels, coordinates, and other relevant details."
   ]
  },
  {
   "cell_type": "markdown",
   "id": "ef8f7255",
   "metadata": {},
   "source": [
    "### Objective of the EDA\n",
    "\n",
    "The primary objective of this exploratory data analysis (EDA) is to gain valuable insights into the IAM Handwriting Database and explore its inherent characteristics. This analysis aims to address various key aspects, including:\n",
    "\n",
    "Initial Checks: Conducting preliminary assessments to identify any anomalous or illogical word lengths within the dataset.\n",
    "\n",
    "Words Length Analysis: Analyzing the distribution of word lengths within the dataset to uncover patterns or deviations from the norm.\n",
    "\n",
    "Character Frequency: Examining the frequency of individual characters to understand their prevalence and significance within the dataset.\n",
    "\n",
    "Characters Analysis by Categories: Categorizing characters based on predefined categories, such as letters, spaces, numbers, and punctuation, to gain a deeper understanding of the character composition within the dataset.\n",
    "\n",
    "Words Frequency Analysis: Investigating the frequency distribution of words to identify commonly occurring terms and potential outliers.\n",
    "\n",
    "By addressing these key areas, we aim to gain comprehensive insights into the IAM Handwriting Database, enabling a better understanding of its characteristics and facilitating subsequent analysis and modeling tasks."
   ]
  },
  {
   "cell_type": "markdown",
   "id": "397b04ce",
   "metadata": {},
   "source": [
    "The EDA is splited into two parts: the first part focuses on analyzing the data from the labels, while the second part covers the analysis of the data from the images."
   ]
  },
  {
   "cell_type": "markdown",
   "id": "cff2e2a3",
   "metadata": {},
   "source": [
    "### Analysis on the data from the labels"
   ]
  },
  {
   "cell_type": "markdown",
   "id": "f7ca05d5",
   "metadata": {},
   "source": [
    "Importing the labels"
   ]
  },
  {
   "cell_type": "code",
   "execution_count": 2,
   "id": "c6f37836",
   "metadata": {},
   "outputs": [],
   "source": [
    "with open(\"lines.txt\", \"r\") as f:\n",
    "    lines = f.readlines()\n",
    "    split_lines = [line.split(\" \", 8) for line in lines]\n",
    "df = pd.DataFrame(split_lines)\n",
    "df.iloc[:,-1].replace(to_replace=[r'\\|', r'\\n$'], value=[' ', ''], regex=True, inplace=True)"
   ]
  },
  {
   "cell_type": "code",
   "execution_count": 3,
   "id": "86b52002",
   "metadata": {},
   "outputs": [],
   "source": [
    "column_mapping = {\n",
    "    0: 'form_id',\n",
    "    1: 'result_segmentation',\n",
    "    2: 'graylevel',\n",
    "    3: 'num_components',\n",
    "    4: 'bounding_box_x',\n",
    "    5: 'bounding_box_y',\n",
    "    6: 'bounding_box_w',\n",
    "    7: 'bounding_box_h',\n",
    "    8: 'transcription'\n",
    "}\n",
    "\n",
    "df = df.rename(columns=column_mapping)"
   ]
  },
  {
   "cell_type": "code",
   "execution_count": 4,
   "id": "fca8ea67",
   "metadata": {},
   "outputs": [
    {
     "data": {
      "text/html": [
       "<div>\n",
       "<style scoped>\n",
       "    .dataframe tbody tr th:only-of-type {\n",
       "        vertical-align: middle;\n",
       "    }\n",
       "\n",
       "    .dataframe tbody tr th {\n",
       "        vertical-align: top;\n",
       "    }\n",
       "\n",
       "    .dataframe thead th {\n",
       "        text-align: right;\n",
       "    }\n",
       "</style>\n",
       "<table border=\"1\" class=\"dataframe\">\n",
       "  <thead>\n",
       "    <tr style=\"text-align: right;\">\n",
       "      <th></th>\n",
       "      <th>form_id</th>\n",
       "      <th>result_segmentation</th>\n",
       "      <th>graylevel</th>\n",
       "      <th>num_components</th>\n",
       "      <th>bounding_box_x</th>\n",
       "      <th>bounding_box_y</th>\n",
       "      <th>bounding_box_w</th>\n",
       "      <th>bounding_box_h</th>\n",
       "      <th>transcription</th>\n",
       "    </tr>\n",
       "  </thead>\n",
       "  <tbody>\n",
       "    <tr>\n",
       "      <th>100</th>\n",
       "      <td>a01-014-03</td>\n",
       "      <td>ok</td>\n",
       "      <td>182</td>\n",
       "      <td>15</td>\n",
       "      <td>384</td>\n",
       "      <td>1224</td>\n",
       "      <td>1745</td>\n",
       "      <td>130</td>\n",
       "      <td>\" We want to discuss what to do if the</td>\n",
       "    </tr>\n",
       "    <tr>\n",
       "      <th>2858</th>\n",
       "      <td>c02-000-00</td>\n",
       "      <td>ok</td>\n",
       "      <td>155</td>\n",
       "      <td>13</td>\n",
       "      <td>344</td>\n",
       "      <td>900</td>\n",
       "      <td>1872</td>\n",
       "      <td>106</td>\n",
       "      <td>AFTER ten days of intermittent , near fatal</td>\n",
       "    </tr>\n",
       "    <tr>\n",
       "      <th>2143</th>\n",
       "      <td>b03-098-00</td>\n",
       "      <td>ok</td>\n",
       "      <td>182</td>\n",
       "      <td>19</td>\n",
       "      <td>368</td>\n",
       "      <td>746</td>\n",
       "      <td>1688</td>\n",
       "      <td>128</td>\n",
       "      <td>The press and the broadcasting authorities are</td>\n",
       "    </tr>\n",
       "    <tr>\n",
       "      <th>3726</th>\n",
       "      <td>c04-139-01</td>\n",
       "      <td>ok</td>\n",
       "      <td>187</td>\n",
       "      <td>40</td>\n",
       "      <td>321</td>\n",
       "      <td>939</td>\n",
       "      <td>1898</td>\n",
       "      <td>109</td>\n",
       "      <td>such as a chair and a motor-car . The idea is ...</td>\n",
       "    </tr>\n",
       "    <tr>\n",
       "      <th>7294</th>\n",
       "      <td>g06-031g-00</td>\n",
       "      <td>ok</td>\n",
       "      <td>182</td>\n",
       "      <td>21</td>\n",
       "      <td>339</td>\n",
       "      <td>721</td>\n",
       "      <td>1685</td>\n",
       "      <td>117</td>\n",
       "      <td>' What a frightful event ! ' he wrote . ' I tr...</td>\n",
       "    </tr>\n",
       "  </tbody>\n",
       "</table>\n",
       "</div>"
      ],
      "text/plain": [
       "          form_id result_segmentation graylevel num_components bounding_box_x  \\\n",
       "100    a01-014-03                  ok       182             15            384   \n",
       "2858   c02-000-00                  ok       155             13            344   \n",
       "2143   b03-098-00                  ok       182             19            368   \n",
       "3726   c04-139-01                  ok       187             40            321   \n",
       "7294  g06-031g-00                  ok       182             21            339   \n",
       "\n",
       "     bounding_box_y bounding_box_w bounding_box_h  \\\n",
       "100            1224           1745            130   \n",
       "2858            900           1872            106   \n",
       "2143            746           1688            128   \n",
       "3726            939           1898            109   \n",
       "7294            721           1685            117   \n",
       "\n",
       "                                          transcription  \n",
       "100              \" We want to discuss what to do if the  \n",
       "2858        AFTER ten days of intermittent , near fatal  \n",
       "2143     The press and the broadcasting authorities are  \n",
       "3726  such as a chair and a motor-car . The idea is ...  \n",
       "7294  ' What a frightful event ! ' he wrote . ' I tr...  "
      ]
     },
     "execution_count": 4,
     "metadata": {},
     "output_type": "execute_result"
    }
   ],
   "source": [
    "df.sample(5)"
   ]
  },
  {
   "cell_type": "markdown",
   "id": "0ad36570",
   "metadata": {},
   "source": [
    "It is interesting to see in the example that the position of each image in the Form is added. With that we can generate an ideal extraction."
   ]
  },
  {
   "cell_type": "markdown",
   "id": "c9a66e3f",
   "metadata": {},
   "source": [
    "For a better interpretation of the data, we add features to counding char, spaces and words. Below are the features generation functions."
   ]
  },
  {
   "cell_type": "code",
   "execution_count": 5,
   "id": "a6c31bdf",
   "metadata": {},
   "outputs": [],
   "source": [
    "def count_characters(string):\n",
    "    return len(string)"
   ]
  },
  {
   "cell_type": "code",
   "execution_count": 6,
   "id": "f0834f47",
   "metadata": {},
   "outputs": [],
   "source": [
    "def count_spaces(string):\n",
    "    return string.count(' ')"
   ]
  },
  {
   "cell_type": "code",
   "execution_count": 7,
   "id": "317cd8ff",
   "metadata": {},
   "outputs": [],
   "source": [
    "def count_words(string):\n",
    "    return len(string.split())"
   ]
  },
  {
   "cell_type": "code",
   "execution_count": 8,
   "id": "fd281c84",
   "metadata": {},
   "outputs": [],
   "source": [
    "def create_word_length_dict(text):\n",
    "    words = text.split()\n",
    "    length_dict = {}\n",
    "    for word in words:\n",
    "        length = len(word)\n",
    "        if length in length_dict:\n",
    "            length_dict[length] += 1\n",
    "        else:\n",
    "            length_dict[length] = 1\n",
    "    return length_dict"
   ]
  },
  {
   "cell_type": "markdown",
   "id": "76971b13",
   "metadata": {},
   "source": [
    "Now we are going to add the features to our dataset."
   ]
  },
  {
   "cell_type": "code",
   "execution_count": 9,
   "id": "c2990499",
   "metadata": {},
   "outputs": [],
   "source": [
    "df['CharacterCount'] = df['transcription'].apply(count_characters)"
   ]
  },
  {
   "cell_type": "code",
   "execution_count": 10,
   "id": "6d4940f1",
   "metadata": {},
   "outputs": [],
   "source": [
    "df['SpaceCount'] = df['transcription'].apply(count_spaces)"
   ]
  },
  {
   "cell_type": "code",
   "execution_count": 11,
   "id": "b304b90c",
   "metadata": {},
   "outputs": [],
   "source": [
    "df['WordCount'] = df['transcription'].apply(count_words)"
   ]
  },
  {
   "cell_type": "code",
   "execution_count": 12,
   "id": "84f776b9",
   "metadata": {},
   "outputs": [],
   "source": [
    "df['WordLengthDict'] = df['transcription'].apply(create_word_length_dict)"
   ]
  },
  {
   "cell_type": "markdown",
   "id": "2bd19982",
   "metadata": {},
   "source": [
    "#### Performing initial checks on the length of words to detect illogical values"
   ]
  },
  {
   "cell_type": "code",
   "execution_count": 13,
   "id": "de59564b",
   "metadata": {},
   "outputs": [],
   "source": [
    "WordLengthDict_total = defaultdict(int)\n",
    "\n",
    "for dictionary in df['WordLengthDict']:\n",
    "    for key, value in dictionary.items():\n",
    "        WordLengthDict_total[key] += value\n",
    "\n",
    "WordLengthDict_total = dict(WordLengthDict_total)"
   ]
  },
  {
   "cell_type": "code",
   "execution_count": 14,
   "id": "635a1cd0",
   "metadata": {},
   "outputs": [
    {
     "data": {
      "text/plain": [
       "{1: 18123,\n",
       " 4: 16469,\n",
       " 2: 17609,\n",
       " 3: 22088,\n",
       " 9: 3782,\n",
       " 10: 2443,\n",
       " 6: 8322,\n",
       " 5: 11275,\n",
       " 7: 7336,\n",
       " 8: 5212,\n",
       " 14: 172,\n",
       " 11: 1310,\n",
       " 12: 760,\n",
       " 15: 46,\n",
       " 16: 37,\n",
       " 13: 368,\n",
       " 18: 1,\n",
       " 17: 8,\n",
       " 19: 4,\n",
       " 21: 2,\n",
       " 20: 1,\n",
       " 53: 1}"
      ]
     },
     "execution_count": 14,
     "metadata": {},
     "output_type": "execute_result"
    }
   ],
   "source": [
    "WordLengthDict_total"
   ]
  },
  {
   "cell_type": "code",
   "execution_count": 15,
   "id": "b5c80ece",
   "metadata": {},
   "outputs": [
    {
     "data": {
      "text/html": [
       "<div>\n",
       "<style scoped>\n",
       "    .dataframe tbody tr th:only-of-type {\n",
       "        vertical-align: middle;\n",
       "    }\n",
       "\n",
       "    .dataframe tbody tr th {\n",
       "        vertical-align: top;\n",
       "    }\n",
       "\n",
       "    .dataframe thead th {\n",
       "        text-align: right;\n",
       "    }\n",
       "</style>\n",
       "<table border=\"1\" class=\"dataframe\">\n",
       "  <thead>\n",
       "    <tr style=\"text-align: right;\">\n",
       "      <th></th>\n",
       "      <th>form_id</th>\n",
       "      <th>result_segmentation</th>\n",
       "      <th>graylevel</th>\n",
       "      <th>num_components</th>\n",
       "      <th>bounding_box_x</th>\n",
       "      <th>bounding_box_y</th>\n",
       "      <th>bounding_box_w</th>\n",
       "      <th>bounding_box_h</th>\n",
       "      <th>transcription</th>\n",
       "      <th>CharacterCount</th>\n",
       "      <th>SpaceCount</th>\n",
       "      <th>WordCount</th>\n",
       "      <th>WordLengthDict</th>\n",
       "    </tr>\n",
       "  </thead>\n",
       "  <tbody>\n",
       "    <tr>\n",
       "      <th>12417</th>\n",
       "      <td>p02-109-01</td>\n",
       "      <td>err</td>\n",
       "      <td>175</td>\n",
       "      <td>16</td>\n",
       "      <td>371</td>\n",
       "      <td>766</td>\n",
       "      <td>546</td>\n",
       "      <td>38</td>\n",
       "      <td>----------------------------------------------...</td>\n",
       "      <td>53</td>\n",
       "      <td>0</td>\n",
       "      <td>1</td>\n",
       "      <td>{53: 1}</td>\n",
       "    </tr>\n",
       "  </tbody>\n",
       "</table>\n",
       "</div>"
      ],
      "text/plain": [
       "          form_id result_segmentation graylevel num_components bounding_box_x  \\\n",
       "12417  p02-109-01                 err       175             16            371   \n",
       "\n",
       "      bounding_box_y bounding_box_w bounding_box_h  \\\n",
       "12417            766            546             38   \n",
       "\n",
       "                                           transcription  CharacterCount  \\\n",
       "12417  ----------------------------------------------...              53   \n",
       "\n",
       "       SpaceCount  WordCount WordLengthDict  \n",
       "12417           0          1        {53: 1}  "
      ]
     },
     "execution_count": 15,
     "metadata": {},
     "output_type": "execute_result"
    }
   ],
   "source": [
    "WordLength_to_search = 53\n",
    "WordLength_to_search_rows = df[df['WordLengthDict'].apply(lambda x: WordLength_to_search in x.keys())]\n",
    "WordLength_to_search_rows"
   ]
  },
  {
   "cell_type": "markdown",
   "id": "bb071a7f",
   "metadata": {},
   "source": [
    "Doing a visual review of the values, we see that there is a length of 53 which is not logical. We can see the transcription of this sample is not a text. The sample will drop. "
   ]
  },
  {
   "cell_type": "code",
   "execution_count": 16,
   "id": "26d18946",
   "metadata": {},
   "outputs": [],
   "source": [
    "WordLength_to_search_indices = WordLength_to_search_rows.index"
   ]
  },
  {
   "cell_type": "code",
   "execution_count": 17,
   "id": "84f2a52a",
   "metadata": {},
   "outputs": [
    {
     "data": {
      "text/plain": [
       "(13353, 13)"
      ]
     },
     "execution_count": 17,
     "metadata": {},
     "output_type": "execute_result"
    }
   ],
   "source": [
    "df.shape"
   ]
  },
  {
   "cell_type": "code",
   "execution_count": 18,
   "id": "9916fbe0",
   "metadata": {},
   "outputs": [],
   "source": [
    "df.drop(WordLength_to_search_rows.index, inplace=True)"
   ]
  },
  {
   "cell_type": "code",
   "execution_count": 19,
   "id": "4fe7e9c3",
   "metadata": {},
   "outputs": [
    {
     "data": {
      "text/plain": [
       "(13352, 13)"
      ]
     },
     "execution_count": 19,
     "metadata": {},
     "output_type": "execute_result"
    }
   ],
   "source": [
    "df.shape"
   ]
  },
  {
   "cell_type": "markdown",
   "id": "78507e47",
   "metadata": {},
   "source": [
    "We check the shape before and after deletion to make sure we are deleting a single swatch."
   ]
  },
  {
   "cell_type": "code",
   "execution_count": 20,
   "id": "717ae4f7",
   "metadata": {},
   "outputs": [],
   "source": [
    "del WordLengthDict_total[53]"
   ]
  },
  {
   "cell_type": "markdown",
   "id": "f93e16bb",
   "metadata": {},
   "source": [
    "#### Presentation of dataset information"
   ]
  },
  {
   "cell_type": "code",
   "execution_count": 21,
   "id": "fee0867c",
   "metadata": {},
   "outputs": [
    {
     "data": {
      "text/html": [
       "<div>\n",
       "<style scoped>\n",
       "    .dataframe tbody tr th:only-of-type {\n",
       "        vertical-align: middle;\n",
       "    }\n",
       "\n",
       "    .dataframe tbody tr th {\n",
       "        vertical-align: top;\n",
       "    }\n",
       "\n",
       "    .dataframe thead th {\n",
       "        text-align: right;\n",
       "    }\n",
       "</style>\n",
       "<table border=\"1\" class=\"dataframe\">\n",
       "  <thead>\n",
       "    <tr style=\"text-align: right;\">\n",
       "      <th></th>\n",
       "      <th>form_id</th>\n",
       "      <th>result_segmentation</th>\n",
       "      <th>graylevel</th>\n",
       "      <th>num_components</th>\n",
       "      <th>bounding_box_x</th>\n",
       "      <th>bounding_box_y</th>\n",
       "      <th>bounding_box_w</th>\n",
       "      <th>bounding_box_h</th>\n",
       "      <th>transcription</th>\n",
       "      <th>CharacterCount</th>\n",
       "      <th>SpaceCount</th>\n",
       "      <th>WordCount</th>\n",
       "      <th>WordLengthDict</th>\n",
       "    </tr>\n",
       "  </thead>\n",
       "  <tbody>\n",
       "    <tr>\n",
       "      <th>9739</th>\n",
       "      <td>k03-144-02</td>\n",
       "      <td>err</td>\n",
       "      <td>191</td>\n",
       "      <td>27</td>\n",
       "      <td>342</td>\n",
       "      <td>1055</td>\n",
       "      <td>1880</td>\n",
       "      <td>137</td>\n",
       "      <td>Party 's very restless , you know . ' ' It</td>\n",
       "      <td>42</td>\n",
       "      <td>10</td>\n",
       "      <td>11</td>\n",
       "      <td>{5: 1, 2: 2, 4: 2, 8: 1, 1: 4, 3: 1}</td>\n",
       "    </tr>\n",
       "    <tr>\n",
       "      <th>1928</th>\n",
       "      <td>b01-044-04</td>\n",
       "      <td>ok</td>\n",
       "      <td>194</td>\n",
       "      <td>31</td>\n",
       "      <td>350</td>\n",
       "      <td>1477</td>\n",
       "      <td>1791</td>\n",
       "      <td>116</td>\n",
       "      <td>should . Germany exports much more than she im...</td>\n",
       "      <td>53</td>\n",
       "      <td>9</td>\n",
       "      <td>10</td>\n",
       "      <td>{6: 1, 1: 2, 7: 3, 4: 3, 3: 1}</td>\n",
       "    </tr>\n",
       "    <tr>\n",
       "      <th>2094</th>\n",
       "      <td>b02-045-02</td>\n",
       "      <td>ok</td>\n",
       "      <td>173</td>\n",
       "      <td>41</td>\n",
       "      <td>350</td>\n",
       "      <td>1085</td>\n",
       "      <td>1569</td>\n",
       "      <td>107</td>\n",
       "      <td>very unlikely ; if Formula Three restores the ...</td>\n",
       "      <td>54</td>\n",
       "      <td>8</td>\n",
       "      <td>9</td>\n",
       "      <td>{4: 1, 8: 3, 1: 1, 2: 1, 7: 1, 5: 1, 3: 1}</td>\n",
       "    </tr>\n",
       "    <tr>\n",
       "      <th>6590</th>\n",
       "      <td>g03-064-01</td>\n",
       "      <td>ok</td>\n",
       "      <td>191</td>\n",
       "      <td>18</td>\n",
       "      <td>403</td>\n",
       "      <td>839</td>\n",
       "      <td>1812</td>\n",
       "      <td>145</td>\n",
       "      <td>with a book on the life of Marx ,</td>\n",
       "      <td>33</td>\n",
       "      <td>8</td>\n",
       "      <td>9</td>\n",
       "      <td>{4: 4, 1: 2, 2: 2, 3: 1}</td>\n",
       "    </tr>\n",
       "    <tr>\n",
       "      <th>1378</th>\n",
       "      <td>a05-013-01</td>\n",
       "      <td>ok</td>\n",
       "      <td>176</td>\n",
       "      <td>26</td>\n",
       "      <td>366</td>\n",
       "      <td>938</td>\n",
       "      <td>1713</td>\n",
       "      <td>64</td>\n",
       "      <td>approval . Mr. Watkinson remains con-</td>\n",
       "      <td>37</td>\n",
       "      <td>5</td>\n",
       "      <td>6</td>\n",
       "      <td>{8: 1, 1: 1, 3: 1, 9: 1, 7: 1, 4: 1}</td>\n",
       "    </tr>\n",
       "  </tbody>\n",
       "</table>\n",
       "</div>"
      ],
      "text/plain": [
       "         form_id result_segmentation graylevel num_components bounding_box_x  \\\n",
       "9739  k03-144-02                 err       191             27            342   \n",
       "1928  b01-044-04                  ok       194             31            350   \n",
       "2094  b02-045-02                  ok       173             41            350   \n",
       "6590  g03-064-01                  ok       191             18            403   \n",
       "1378  a05-013-01                  ok       176             26            366   \n",
       "\n",
       "     bounding_box_y bounding_box_w bounding_box_h  \\\n",
       "9739           1055           1880            137   \n",
       "1928           1477           1791            116   \n",
       "2094           1085           1569            107   \n",
       "6590            839           1812            145   \n",
       "1378            938           1713             64   \n",
       "\n",
       "                                          transcription  CharacterCount  \\\n",
       "9739         Party 's very restless , you know . ' ' It              42   \n",
       "1928  should . Germany exports much more than she im...              53   \n",
       "2094  very unlikely ; if Formula Three restores the ...              54   \n",
       "6590                  with a book on the life of Marx ,              33   \n",
       "1378              approval . Mr. Watkinson remains con-              37   \n",
       "\n",
       "      SpaceCount  WordCount                              WordLengthDict  \n",
       "9739          10         11        {5: 1, 2: 2, 4: 2, 8: 1, 1: 4, 3: 1}  \n",
       "1928           9         10              {6: 1, 1: 2, 7: 3, 4: 3, 3: 1}  \n",
       "2094           8          9  {4: 1, 8: 3, 1: 1, 2: 1, 7: 1, 5: 1, 3: 1}  \n",
       "6590           8          9                    {4: 4, 1: 2, 2: 2, 3: 1}  \n",
       "1378           5          6        {8: 1, 1: 1, 3: 1, 9: 1, 7: 1, 4: 1}  "
      ]
     },
     "execution_count": 21,
     "metadata": {},
     "output_type": "execute_result"
    }
   ],
   "source": [
    "df.sample(5)"
   ]
  },
  {
   "cell_type": "code",
   "execution_count": 22,
   "id": "85f40383",
   "metadata": {},
   "outputs": [
    {
     "name": "stdout",
     "output_type": "stream",
     "text": [
      "Total lines in the datasets is: 13352\n"
     ]
    }
   ],
   "source": [
    "print(f'Total lines in the datasets is: {len(df)}')"
   ]
  },
  {
   "cell_type": "code",
   "execution_count": 23,
   "id": "abcae00e",
   "metadata": {
    "scrolled": true
   },
   "outputs": [
    {
     "name": "stdout",
     "output_type": "stream",
     "text": [
      "Total words in the datasets is: 115368\n"
     ]
    }
   ],
   "source": [
    "datasets_total_words = df['WordCount'].sum()\n",
    "\n",
    "print(f'Total words in the datasets is: {datasets_total_words}')"
   ]
  },
  {
   "cell_type": "markdown",
   "id": "d4dd9430",
   "metadata": {},
   "source": [
    "Reviewing the number of records, we find 13,352 lines and 115,368 words. We understand that it is an acceptable number for the model we want to design."
   ]
  },
  {
   "cell_type": "code",
   "execution_count": 24,
   "id": "82fd0d3f",
   "metadata": {},
   "outputs": [
    {
     "data": {
      "image/png": "[encoded data removed]",
      "text/plain": [
       "<Figure size 640x480 with 1 Axes>"
      ]
     },
     "metadata": {},
     "output_type": "display_data"
    }
   ],
   "source": [
    "sns.histplot(df['WordCount'], bins=20, kde=True)\n",
    "plt.xlabel('WordCount')\n",
    "plt.ylabel('Density')\n",
    "plt.title('Distribution of Words per line')\n",
    "plt.show()"
   ]
  },
  {
   "cell_type": "markdown",
   "id": "032b2aff",
   "metadata": {},
   "source": [
    "We discovered that the distribution of word count per line follows a normal distribution, with an average of 8 words per line. However, we should consider the potential bias towards smaller values. This bias is logical since the text is typically written from left to right, and not all lines are fully completed."
   ]
  },
  {
   "cell_type": "code",
   "execution_count": 25,
   "id": "5f5d1286",
   "metadata": {},
   "outputs": [
    {
     "data": {
      "image/png": "[encoded data removed]",
      "text/plain": [
       "<Figure size 640x480 with 1 Axes>"
      ]
     },
     "metadata": {},
     "output_type": "display_data"
    }
   ],
   "source": [
    "sns.histplot(df['CharacterCount'], bins=20, kde=True)\n",
    "plt.xlabel('CharacterCount')\n",
    "plt.ylabel('Density')\n",
    "plt.title('Distribution of Character Count per Line')\n",
    "plt.show()\n"
   ]
  },
  {
   "cell_type": "markdown",
   "id": "7357b7e9",
   "metadata": {},
   "source": [
    "We observed that the distribution of character count per line follows a normal distribution, but with a distinct shift towards the left. This finding is expected since not all lines are fully completed."
   ]
  },
  {
   "cell_type": "markdown",
   "id": "0af1b5c4",
   "metadata": {},
   "source": [
    "#### Words length analysis"
   ]
  },
  {
   "cell_type": "code",
   "execution_count": 26,
   "id": "9bd8b411",
   "metadata": {},
   "outputs": [],
   "source": [
    "WordLengthDict_total_keys = list(WordLengthDict_total.keys())\n",
    "WordLengthDict_total_values = list(WordLengthDict_total.values())"
   ]
  },
  {
   "cell_type": "code",
   "execution_count": 27,
   "id": "68d117de",
   "metadata": {},
   "outputs": [
    {
     "data": {
      "image/png": "[encoded data removed]",
      "text/plain": [
       "<Figure size 1400x300 with 2 Axes>"
      ]
     },
     "metadata": {},
     "output_type": "display_data"
    }
   ],
   "source": [
    "fig, axes = plt.subplots(nrows=1, ncols=2, figsize=(14, 3))\n",
    "\n",
    "# Plot the bar chart on the first subplot (left side)\n",
    "axes[0].bar(WordLengthDict_total_keys, WordLengthDict_total_values)\n",
    "axes[0].set_xlabel('Words Length')\n",
    "axes[0].set_ylabel('Frequency of Words Length')\n",
    "axes[0].set_title('Distribution of Words Length')\n",
    "\n",
    "# Plot the bar chart on the second subplot (right side)\n",
    "axes[1].bar(WordLengthDict_total_keys, WordLengthDict_total_values)\n",
    "axes[1].set_xlabel('Words Length')\n",
    "axes[1].set_ylabel('Frequency of Words Length')\n",
    "axes[1].set_title('Distribution of Words Length (Log Scale to Frecuency)')\n",
    "axes[1].set_yscale('log')\n",
    "\n",
    "# Adjust the spacing between subplots\n",
    "plt.subplots_adjust(wspace=0.3)\n",
    "\n",
    "# Display the plot\n",
    "plt.show()"
   ]
  },
  {
   "cell_type": "markdown",
   "id": "942f59b2",
   "metadata": {},
   "source": [
    "We expected Log-Normal Distribution for word length, and that's it. This indicates that we would be facing quality information to move forward with the development of the model."
   ]
  },
  {
   "cell_type": "markdown",
   "id": "00592a8b",
   "metadata": {},
   "source": [
    "#### Charcater frequency"
   ]
  },
  {
   "cell_type": "markdown",
   "id": "01f80fed",
   "metadata": {},
   "source": [
    "To analyze the frequency of the characters we need to generate another feature with a dictionary of the frequency of each character in each line. Below is the function and the addition of the feature to our dataset."
   ]
  },
  {
   "cell_type": "code",
   "execution_count": 28,
   "id": "ddfdcbbe",
   "metadata": {},
   "outputs": [],
   "source": [
    "def create_char_frequency_dict(text):\n",
    "    frequency_dict = {}\n",
    "    for char in text:\n",
    "        if char in frequency_dict:\n",
    "            frequency_dict[char] += 1\n",
    "        else:\n",
    "            frequency_dict[char] = 1\n",
    "    return frequency_dict"
   ]
  },
  {
   "cell_type": "code",
   "execution_count": 29,
   "id": "bd77e913",
   "metadata": {},
   "outputs": [],
   "source": [
    "df['CharFrequencyDict'] = df['transcription'].apply(create_char_frequency_dict)"
   ]
  },
  {
   "cell_type": "code",
   "execution_count": 30,
   "id": "85e528d7",
   "metadata": {},
   "outputs": [],
   "source": [
    "char_total_freq = defaultdict(int)\n",
    "\n",
    "for dictionary in df['CharFrequencyDict']:\n",
    "    for key, value in dictionary.items():\n",
    "        char_total_freq[key] += value\n",
    "\n",
    "char_total_freq = dict(char_total_freq)"
   ]
  },
  {
   "cell_type": "code",
   "execution_count": 31,
   "id": "f20cc9dc",
   "metadata": {
    "scrolled": true
   },
   "outputs": [
    {
     "data": {
      "text/plain": [
       "{'A': 1257,\n",
       " ' ': 102016,\n",
       " 'M': 1144,\n",
       " 'O': 469,\n",
       " 'V': 171,\n",
       " 'E': 675,\n",
       " 't': 39972,\n",
       " 'o': 33343,\n",
       " 's': 27867,\n",
       " 'p': 8253,\n",
       " 'r': 27516,\n",
       " '.': 6224,\n",
       " 'G': 661,\n",
       " 'a': 35849,\n",
       " 'i': 30300,\n",
       " 'k': 2819,\n",
       " 'e': 56911,\n",
       " 'l': 18036,\n",
       " 'f': 10006,\n",
       " 'm': 10642,\n",
       " 'n': 31027,\n",
       " 'g': 8653,\n",
       " 'y': 8264,\n",
       " 'L': 638,\n",
       " 'b': 6803,\n",
       " 'u': 12203,\n",
       " 'P': 722,\n",
       " 'd': 17952,\n",
       " 'w': 8808,\n",
       " 'c': 11823,\n",
       " 'h': 25244,\n",
       " 'F': 489,\n",
       " 'j': 423,\n",
       " 'W': 728,\n",
       " ',': 5629,\n",
       " 'x': 785,\n",
       " '0': 431,\n",
       " 'T': 1652,\n",
       " '-': 1492,\n",
       " \"'\": 1987,\n",
       " 'v': 4528,\n",
       " 'B': 854,\n",
       " 'H': 988,\n",
       " '\"': 1629,\n",
       " 'S': 1064,\n",
       " '1': 494,\n",
       " '9': 179,\n",
       " '5': 157,\n",
       " '8': 118,\n",
       " '3': 174,\n",
       " '#': 79,\n",
       " 'q': 370,\n",
       " 'N': 711,\n",
       " 'R': 606,\n",
       " 'D': 569,\n",
       " 'K': 163,\n",
       " 'U': 189,\n",
       " 'I': 1600,\n",
       " '(': 203,\n",
       " '2': 209,\n",
       " ')': 200,\n",
       " 'C': 750,\n",
       " '4': 118,\n",
       " ':': 165,\n",
       " 'Y': 227,\n",
       " 'J': 181,\n",
       " '7': 64,\n",
       " ';': 204,\n",
       " '6': 121,\n",
       " 'z': 205,\n",
       " 'Z': 10,\n",
       " '?': 259,\n",
       " '*': 14,\n",
       " 'Q': 16,\n",
       " 'X': 8,\n",
       " '!': 226,\n",
       " '/': 16,\n",
       " '&': 55,\n",
       " '+': 9}"
      ]
     },
     "execution_count": 31,
     "metadata": {},
     "output_type": "execute_result"
    }
   ],
   "source": [
    "char_total_freq"
   ]
  },
  {
   "cell_type": "markdown",
   "id": "7942a63f",
   "metadata": {},
   "source": [
    "We take a first look at the values. They seem to be logical. We continue to plot for a better understanding."
   ]
  },
  {
   "cell_type": "code",
   "execution_count": 32,
   "id": "6057827f",
   "metadata": {},
   "outputs": [
    {
     "data": {
      "image/png": "[encoded data removed]",
      "text/plain": [
       "<Figure size 640x480 with 1 Axes>"
      ]
     },
     "metadata": {},
     "output_type": "display_data"
    }
   ],
   "source": [
    "char_total_freq_values = list(char_total_freq.values())\n",
    "\n",
    "num_bins = 40\n",
    "\n",
    "sns.histplot(char_total_freq_values, bins=num_bins, kde=True)\n",
    "plt.xlabel('Values')\n",
    "plt.ylabel('Count')\n",
    "plt.title('Count Plot of Count of Frecuency of the characters')\n",
    "plt.show()"
   ]
  },
  {
   "cell_type": "code",
   "execution_count": 33,
   "id": "8a4e96ba",
   "metadata": {},
   "outputs": [
    {
     "name": "stdout",
     "output_type": "stream",
     "text": [
      "Total of different chars: 79\n"
     ]
    }
   ],
   "source": [
    "print(f'Total of different chars: {len(char_total_freq)}')"
   ]
  },
  {
   "cell_type": "markdown",
   "id": "dacfffb3",
   "metadata": {},
   "source": [
    "We see that we have 79 different characters. About 55 characters have a low frequency, below 2000 times, while the rest have different levels of frequency. In this case the space is counted as a character and logically has a high frequency."
   ]
  },
  {
   "cell_type": "markdown",
   "id": "ab8687a2",
   "metadata": {},
   "source": [
    "We add interesting information for the most common and least common characters."
   ]
  },
  {
   "cell_type": "code",
   "execution_count": 34,
   "id": "656883bd",
   "metadata": {},
   "outputs": [],
   "source": [
    "sorted_items = sorted(char_total_freq.items(), key=lambda x: x[1], reverse=True)"
   ]
  },
  {
   "cell_type": "code",
   "execution_count": 35,
   "id": "530f2970",
   "metadata": {},
   "outputs": [
    {
     "name": "stdout",
     "output_type": "stream",
     "text": [
      "Top 10 frequent chars:\n",
      "Char: ' ' / Count: 102016\n",
      "Char: 'e' / Count: 56911\n",
      "Char: 't' / Count: 39972\n",
      "Char: 'a' / Count: 35849\n",
      "Char: 'o' / Count: 33343\n",
      "Char: 'n' / Count: 31027\n",
      "Char: 'i' / Count: 30300\n",
      "Char: 's' / Count: 27867\n",
      "Char: 'r' / Count: 27516\n",
      "Char: 'h' / Count: 25244\n"
     ]
    }
   ],
   "source": [
    "print('Top 10 frequent chars:')\n",
    "\n",
    "for key, value in sorted_items[:10]:\n",
    "    print(f\"Char: '{key}' / Count: {value}\")"
   ]
  },
  {
   "cell_type": "code",
   "execution_count": 36,
   "id": "b9f41466",
   "metadata": {},
   "outputs": [
    {
     "name": "stdout",
     "output_type": "stream",
     "text": [
      "10 least frequent chars:\n",
      "Char: '4' / Count: 118\n",
      "Char: '#' / Count: 79\n",
      "Char: '7' / Count: 64\n",
      "Char: '&' / Count: 55\n",
      "Char: 'Q' / Count: 16\n",
      "Char: '/' / Count: 16\n",
      "Char: '*' / Count: 14\n",
      "Char: 'Z' / Count: 10\n",
      "Char: '+' / Count: 9\n",
      "Char: 'X' / Count: 8\n"
     ]
    }
   ],
   "source": [
    "print('10 least frequent chars:')\n",
    "\n",
    "for key, value in sorted_items[-10:]:\n",
    "    print(f\"Char: '{key}' / Count: {value}\")"
   ]
  },
  {
   "cell_type": "markdown",
   "id": "c5eb38c3",
   "metadata": {},
   "source": [
    "The presence of the characters exposed in the top and least 10 ranking is logical. This indicates that our train set is representative. Because there are numbers in the less common characters, we can understand that letter characters predominate in texts."
   ]
  },
  {
   "cell_type": "markdown",
   "id": "f67361f5",
   "metadata": {},
   "source": [
    "#### Characters analysis by categories"
   ]
  },
  {
   "cell_type": "code",
   "execution_count": 37,
   "id": "e28cb16e",
   "metadata": {},
   "outputs": [],
   "source": [
    "char_categories = {}\n",
    "\n",
    "for char, frequency in char_total_freq.items():\n",
    "    if char == ' ':\n",
    "        char_categories[char] = 'Space'\n",
    "    elif char.isalpha():\n",
    "        char_categories[char] = 'Letter'\n",
    "    elif char.isdigit():\n",
    "        char_categories[char] = 'Number'\n",
    "    else:\n",
    "        char_categories[char] = 'Punctuation'"
   ]
  },
  {
   "cell_type": "code",
   "execution_count": 38,
   "id": "337b7b75",
   "metadata": {},
   "outputs": [],
   "source": [
    "category_totals = {}\n",
    "\n",
    "for char, frequency in char_total_freq.items():\n",
    "    category = char_categories[char]\n",
    "    category_totals[category] = category_totals.get(category, 0) + frequency"
   ]
  },
  {
   "cell_type": "code",
   "execution_count": 39,
   "id": "2b24381d",
   "metadata": {},
   "outputs": [
    {
     "data": {
      "image/png": "[encoded data removed]",
      "text/plain": [
       "<Figure size 640x480 with 1 Axes>"
      ]
     },
     "metadata": {},
     "output_type": "display_data"
    }
   ],
   "source": [
    "categories = list(category_totals.keys())\n",
    "frequencies = list(category_totals.values())\n",
    "\n",
    "plt.bar(categories, frequencies)\n",
    "plt.xlabel('Categories')\n",
    "plt.ylabel('Total Frequency')\n",
    "plt.title('Total Char Frequency by Category')\n",
    "\n",
    "plt.show()"
   ]
  },
  {
   "cell_type": "markdown",
   "id": "d06379fb",
   "metadata": {},
   "source": [
    "We reached the conclusion that we can confirm the low presence of numbers. The proportion of the rest of the character categories is as expected."
   ]
  },
  {
   "cell_type": "markdown",
   "id": "45e8de15",
   "metadata": {},
   "source": [
    "#### Words frequency analysis"
   ]
  },
  {
   "cell_type": "code",
   "execution_count": 40,
   "id": "ca600f30",
   "metadata": {},
   "outputs": [],
   "source": [
    "all_sentences = ' '.join(df['transcription'].astype(str).tolist())\n",
    "\n",
    "words = all_sentences.split()\n",
    "\n",
    "word_frequencies = Counter(words)"
   ]
  },
  {
   "cell_type": "code",
   "execution_count": 41,
   "id": "b7027d37",
   "metadata": {},
   "outputs": [
    {
     "data": {
      "image/png": "[encoded data removed]",
      "text/plain": [
       "<Figure size 640x480 with 1 Axes>"
      ]
     },
     "metadata": {},
     "output_type": "display_data"
    }
   ],
   "source": [
    "word_frequencies_values = list(word_frequencies.values())\n",
    "\n",
    "sns.boxplot(y=word_frequencies_values)\n",
    "\n",
    "plt.ylabel('Frequency')\n",
    "plt.title('Box Plot of Word Frequency Counts')\n",
    "plt.show()"
   ]
  },
  {
   "cell_type": "markdown",
   "id": "b698c979",
   "metadata": {},
   "source": [
    "We can see that there are many outliers with very high values, that is, many words are repeated many times."
   ]
  },
  {
   "cell_type": "markdown",
   "id": "5e567fd5",
   "metadata": {},
   "source": [
    "These are the words that are repeated more than 1000 times"
   ]
  },
  {
   "cell_type": "code",
   "execution_count": 42,
   "id": "9d6c7bf9",
   "metadata": {
    "scrolled": true
   },
   "outputs": [
    {
     "name": "stdout",
     "output_type": "stream",
     "text": [
      "Top 10 frequent words:\n",
      "to : 2651\n",
      "a : 2264\n",
      "of : 3192\n",
      ". : 4984\n",
      "the : 5826\n",
      "and : 2475\n",
      ", : 5570\n",
      "that : 1127\n",
      "\" : 1599\n",
      "in : 1802\n",
      "was : 1135\n"
     ]
    }
   ],
   "source": [
    "print('Top 10 frequent words:')\n",
    "\n",
    "for word, frequency in word_frequencies.items():\n",
    "    if frequency > 1000:\n",
    "        print(word, ':', frequency)"
   ]
  },
  {
   "cell_type": "markdown",
   "id": "567db70a",
   "metadata": {},
   "source": [
    "We see that some punctuations are taken as words. We will take advantage of the categories of characters raised above to discard them to analyze only words."
   ]
  },
  {
   "cell_type": "code",
   "execution_count": 43,
   "id": "26ba035b",
   "metadata": {},
   "outputs": [],
   "source": [
    "word_frequencies_under_no_punctations = {word: frequency for word, frequency in word_frequencies.items() if char_categories.get(word, '') != 'Punctuation'}"
   ]
  },
  {
   "cell_type": "code",
   "execution_count": 44,
   "id": "3fc3665c",
   "metadata": {},
   "outputs": [
    {
     "data": {
      "text/plain": [
       "(13545, 13531, 14)"
      ]
     },
     "execution_count": 44,
     "metadata": {},
     "output_type": "execute_result"
    }
   ],
   "source": [
    "len(word_frequencies), len(word_frequencies_under_no_punctations), len(word_frequencies)-len(word_frequencies_under_no_punctations)"
   ]
  },
  {
   "cell_type": "markdown",
   "id": "0db4c7cd",
   "metadata": {},
   "source": [
    "We can see that 14 words that were actually punctuations were removed"
   ]
  },
  {
   "cell_type": "markdown",
   "id": "99bbc538",
   "metadata": {},
   "source": [
    "We plot with different maximum frequency value the count value of the frequencies of the words."
   ]
  },
  {
   "cell_type": "code",
   "execution_count": 45,
   "id": "f8dafe4f",
   "metadata": {},
   "outputs": [],
   "source": [
    "word_frequencies_under_500 = {word: frequency for word, frequency in word_frequencies_under_no_punctations.items() if frequency < 500}\n",
    "word_frequencies_values_under_500 = list(word_frequencies_under_500.values())"
   ]
  },
  {
   "cell_type": "code",
   "execution_count": 46,
   "id": "f8404362",
   "metadata": {},
   "outputs": [],
   "source": [
    "word_frequencies_under_200 = {word: frequency for word, frequency in word_frequencies.items() if frequency < 200}\n",
    "word_frequencies_values_under_200 = list(word_frequencies_under_200.values())"
   ]
  },
  {
   "cell_type": "code",
   "execution_count": 47,
   "id": "9b405256",
   "metadata": {},
   "outputs": [],
   "source": [
    "word_frequencies_under_50 = {word: frequency for word, frequency in word_frequencies.items() if frequency < 50}\n",
    "word_frequencies_values_under_50 = list(word_frequencies_under_50.values())"
   ]
  },
  {
   "cell_type": "code",
   "execution_count": 48,
   "id": "ea4fcb52",
   "metadata": {},
   "outputs": [
    {
     "data": {
      "image/png": "[encoded data removed]",
      "text/plain": [
       "<Figure size 1500x500 with 3 Axes>"
      ]
     },
     "metadata": {},
     "output_type": "display_data"
    }
   ],
   "source": [
    "fig, axes = plt.subplots(1, 3, figsize=(15, 5))\n",
    "\n",
    "sns.histplot(word_frequencies_values_under_500, bins=num_bins, kde=True, ax=axes[0])\n",
    "axes[0].set_xlabel('Values')\n",
    "axes[0].set_ylabel('Count')\n",
    "axes[0].set_title('Count Plot of Frequency of Words')\n",
    "\n",
    "sns.histplot(word_frequencies_values_under_200, bins=num_bins, kde=True, ax=axes[1])\n",
    "axes[1].set_xlabel('Values')\n",
    "axes[1].set_ylabel('Count')\n",
    "axes[1].set_title('Count Plot of Frequency of Words')\n",
    "\n",
    "sns.histplot(word_frequencies_values_under_50, bins=num_bins, kde=True, ax=axes[2])\n",
    "axes[2].set_xlabel('Values')\n",
    "axes[2].set_ylabel('Count')\n",
    "axes[2].set_title('Count Plot of Frequency of Words')\n",
    "\n",
    "plt.tight_layout()\n",
    "plt.show()"
   ]
  },
  {
   "cell_type": "markdown",
   "id": "e8888019",
   "metadata": {},
   "source": [
    "Finally, the analysis reveals that words with high frequencies are quite rare. This observation suggests that forecasting results using a word-based model may not yield optimal outcomes. Considering this, an alternative approach could involve using the entire lines of text as inputs for better performance and accuracy."
   ]
  }
 ],
 "metadata": {
  "kernelspec": {
   "display_name": "Python 3 (ipykernel)",
   "language": "python",
   "name": "python3"
  },
  "language_info": {
   "codemirror_mode": {
    "name": "ipython",
    "version": 3
   },
   "file_extension": ".py",
   "mimetype": "text/x-python",
   "name": "python",
   "nbconvert_exporter": "python",
   "pygments_lexer": "ipython3",
   "version": "3.10.9"
  }
 },
 "nbformat": 4,
 "nbformat_minor": 5
}
